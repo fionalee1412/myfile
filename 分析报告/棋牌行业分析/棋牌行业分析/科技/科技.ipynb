{
 "cells": [
  {
   "cell_type": "markdown",
   "metadata": {},
   "source": [
    "### AR、VR\n",
    "#### 定义：  \n",
    "* AR：Augmented Reality，增强现实，字面解释就是，“现实”就在这里，但是它被增强了。被讨论最多的AR设备是Google Glass\n",
    "* VR：Vitual Reality，虚拟现实，是利用计算设备模拟产生一个三维的虚拟世界，提供用户关于视觉、听觉等感官的模拟，有十足的“沉浸感”与“临场感”。\n",
    "\n",
    "#### 在棋牌行业可应用场景：\n",
    "* AR-算牌眼镜：功能类似于德州里面的HUB，当看向某个玩家时，可自动显示该玩家的主动入池率、翻前加注率、激进度等\n",
    "* VR-模拟真实的游戏场景：目前已有类似的游戏（如腾讯开发的幸运之夜，可在steam上下载）\n",
    "\n",
    "#### 前景分析：\n",
    "1. 目前来看，AR的应用会比VR要好，理由如下：  \n",
    "    * 棋牌游戏和其他游戏最大的不同之处在于，对游戏的交互体验并没有那么高的要求，而且也不需要太多的沉浸感\n",
    "    * 很多用户玩棋牌游戏，主要是觉得棋牌游戏玩起来方便，对时间场地要求都比较低，只要有5分钟的时间，再加上手机和网络，便能开一局。目前的VR设备大部分都比较重，携带不方便，没有人会戴着出门，注定了只能在家里玩\n",
    "    * 德州玩家最喜欢德州的原因在于游戏规则本身所带来的心理、策略和刺激，对游戏交互最大的要求便是操作流畅，如果由于操作不便导致玩家弃牌或者allin，我相信大部分玩家不会再给这个游戏第二次机会，从目前的AR操作交互上，远没有达到这个要求；当然，如果到了像头号玩家里面的操作体验，虚拟赌场或许会相当火\n",
    "    * 会购买VR设备的用户，和棋牌游戏的用户重叠度有多高呢？\n"
   ]
  }
 ],
 "metadata": {
  "kernelspec": {
   "display_name": "Python 3",
   "language": "python",
   "name": "python3"
  },
  "language_info": {
   "codemirror_mode": {
    "name": "ipython",
    "version": 3
   },
   "file_extension": ".py",
   "mimetype": "text/x-python",
   "name": "python",
   "nbconvert_exporter": "python",
   "pygments_lexer": "ipython3",
   "version": "3.6.1"
  }
 },
 "nbformat": 4,
 "nbformat_minor": 2
}
